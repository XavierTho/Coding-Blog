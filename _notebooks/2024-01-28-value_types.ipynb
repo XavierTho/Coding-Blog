{
 "cells": [
  {
   "cell_type": "raw",
   "metadata": {},
   "source": [
    "---\n",
    "layout: post\n",
    "title: Basics on Value Types\n",
    "toc: true\n",
    "description: Types of values in Python\n",
    "type: code\n",
    "courses: { python: {week: 1} }\n",
    "---"
   ]
  },
  {
   "cell_type": "markdown",
   "metadata": {},
   "source": [
    "## Description\n",
    "The following is a list of different variables that are associated with Python. This guide will allow you to understand such, and provide basic familiarity to manipulate and configure these variables."
   ]
  },
  {
   "cell_type": "markdown",
   "metadata": {},
   "source": [
    "## Numeric Values\n",
    "\n",
    "1. Integers are positive or negative **whole** (no decimals) numbers.\n",
    "2. Floaters are numbers containing decimals. They can also be used as a method in which scientific numbers (denoted with E) can be used.\n",
    "3. Complex numbers (denoted with j) are numbers with imaginary values\n",
    "\n",
    "They can be seen being defined below:"
   ]
  },
  {
   "cell_type": "code",
   "execution_count": null,
   "metadata": {},
   "outputs": [],
   "source": [
    "# Integers\n",
    "a = 1\n",
    "b = 1234567890\n",
    "c = -1\n",
    "\n",
    "#Floaters\n",
    "d = 1.12\n",
    "e =  12E4\n",
    "f = -243.43\n",
    "\n",
    "#Complex Numbers\n",
    "g = 2 + 10j\n",
    "h = 3j\n",
    "i = 3j\n",
    "\n",
    "# Confirming Values\n",
    "print(type(a))\n",
    "print(type(d))\n",
    "print(type(g))"
   ]
  },
  {
   "cell_type": "markdown",
   "metadata": {},
   "source": [
    "To confirm that the the values are indeed what I specified they are to be, the type() function was used."
   ]
  },
  {
   "cell_type": "markdown",
   "metadata": {},
   "source": [
    "## Sequential Data\n",
    "\n",
    "1. **Strings** are represented as an array of bytes representing Unicode characters. They are a collection of characters that are surrounded by quotations.\n",
    "2.  **Lists** are like arrays, in the fact they are an ordered collection of data.\n",
    "3. **Tuples** are equivalent to a list, with the one exception being that they cannot be modified after creation.\n",
    "\n",
    "\n",
    "Due to the fact that these values are of a much more complex nature than that of their numerical counterparts, each value will have its own exclusive section."
   ]
  },
  {
   "cell_type": "markdown",
   "metadata": {},
   "source": [
    "### Strings"
   ]
  },
  {
   "cell_type": "code",
   "execution_count": null,
   "metadata": {},
   "outputs": [],
   "source": [
    "#Strings\n",
    "\n",
    "string = \"Hello, World!\" # Defining the String\n",
    "\n",
    "#Printing the String\n",
    "print(f\"Initial String: {string}\")\n",
    "\n",
    "#Indexing the String\n",
    "print(f\"\\n First Character: {string[0]}\") # Outputs H\n",
    "print(f\"\\n Last Character: {string[-1]}\") # Outputs !\n",
    "\n",
    "#Slicing the String\n",
    "print(string[0:5]) # Slice (extract) first 5 characters\n",
    "print(string [-6:-1]) # Slice characters between 6th last character & 1st last character\n",
    "\n",
    "#Reversing a string\n",
    "palindrome = \"live on time\"\n",
    "print(palindrome[::-1])"
   ]
  },
  {
   "cell_type": "markdown",
   "metadata": {},
   "source": [
    "There's a lot to unpack in the above code, so let's skip the most basic parts and get to the meat of this supper. \n",
    "\n",
    "The first thing to note is how we can index our string to extract different characters of our choosing. Each character in a string is assigned a number, starting from 0 and ending at *n*. To index one of these characters, we format the code in the following manner: **string[number of said character]**. Not only are characters in a string assigned a positive integer but a negative one as well, which allows us to get characters in reverse order. The above code provides an example of how this works.\n",
    "\n",
    "The second noteworthy topic above is String Slicing, in which instead of extracting a singular character, we are given the ability to extract a range of such. We use a colon (**:**) to denote that want to get the range. **An important thing to mention is that when selecting the range, the last value of said range will not be included**.\n",
    "\n",
    "Finally, the last piece of code, we go a bit more advanced by using string slicing to reverse the string \"palindrome.\" We specify we want the entire text with :: and reverse the text with -1."
   ]
  },
  {
   "cell_type": "markdown",
   "metadata": {},
   "source": [
    "Now before we go any further into the next topic, which is how we can edit and change strings, we must first understand an important feature of strings. This feature is the fact that strings are immutable values, meaning once they have been defined, they cannot be changed. There isn't any way to really workaround this, the best method in which one can use is to take the contents of the original string and use it to create a new string that will carry on our modifications. Once again, the following methods will be shown below then explained afterwards."
   ]
  },
  {
   "cell_type": "code",
   "execution_count": null,
   "metadata": {},
   "outputs": [],
   "source": [
    "# Editing a Character in a String\n",
    "string = \"Hello, World!\"\n",
    "string2 = string[0:5] + string[6:]\n",
    "print(string2)\n",
    "\n",
    "\n",
    "# More Complex Version of Modification\n",
    "string3 = string[0:6] + \" It's nice to see you!\"\n",
    "print(string3)\n",
    "\n",
    "# Delete a String\n",
    "del string2"
   ]
  },
  {
   "cell_type": "markdown",
   "metadata": {},
   "source": [
    "The code above outlines two things in which we are able to accomplish. How we can use the preexisting value of a string and modify it for a new string and how we can delete strings.\n",
    "\n",
    "To make new strings with the contents of old strings, we can use string slicing, and slice off some of the text from the original string and concatenate another string onto that. As for deleting the string, all one must do is add **del** before the name of the string to eradicate it of its existence.\n",
    "\n",
    "What has been outlined so far serves as a good basis for the basics of strings, and a more complex guide regarding such will be outlined later. The following is a good guide to become more adept in the way of strings and introduces many powerful functions in the manipulation of these strings [Guide](https://www.geeksforgeeks.org/python-string/)."
   ]
  },
  {
   "cell_type": "markdown",
   "metadata": {},
   "source": [
    "### Lists\n",
    "Lists are the equivalent to the arrays of other languages in the fact they are essentially made to store a collection of values in a singular variable."
   ]
  },
  {
   "cell_type": "code",
   "execution_count": null,
   "metadata": {},
   "outputs": [],
   "source": [
    "cars = [\"SUV\", \"Sedan\", \"Truck\", \"Electric\", \"Convertible\"]"
   ]
  },
  {
   "cell_type": "markdown",
   "metadata": {},
   "source": [
    "Here's an example of a list of different types of cars. Lists always follow this general format: `variable = [\"1\", \"2\", \"3\"]`` To access one of these values, we will index one of the values, just like we did for strings, but instead of characters, it's an entry in the list."
   ]
  },
  {
   "cell_type": "code",
   "execution_count": null,
   "metadata": {},
   "outputs": [],
   "source": [
    "cars = [\"SUV\", \"Sedan\", \"Truck\", \"Electric\", \"Convertible\"]\n",
    "print(cars[0]) # Outputs SUV\n",
    "print(cars[-1]) # Outputs Convertible"
   ]
  },
  {
   "cell_type": "markdown",
   "metadata": {},
   "source": [
    "Unlike strings, we can easily edit the values in a list."
   ]
  },
  {
   "cell_type": "code",
   "execution_count": null,
   "metadata": {},
   "outputs": [],
   "source": [
    "cars = [\"SUV\", \"Sedan\", \"Truck\", \"Electric\", \"Convertible\"]\n",
    "\n",
    "#Edit List\n",
    "cars[0] = \"Van\"\n",
    "cars[1:3] = [\"Coupe\", \"Wagon\"]\n",
    "\n",
    "print(cars)"
   ]
  },
  {
   "cell_type": "markdown",
   "metadata": {},
   "source": [
    "To add values to an array, we use a multitude of methods, including append(), insert(), & extend(). append() adds a value to the end of a list, insert() allows you to specify where to put a value in a list, and extend() adds on a iterable (list, set, tuple, etc.) to said list."
   ]
  },
  {
   "cell_type": "code",
   "execution_count": null,
   "metadata": {},
   "outputs": [],
   "source": [
    "cars = [\"SUV\", \"Sedan\", \"Truck\", \"Electric\", \"Convertible\"]\n",
    "cars2 = [\"Tesla\", \"Honda\", \"Lexus\", \"Toyota\", \"Ford\", \"Nissan\"]\n",
    "\n",
    "cars.append(\"Van\")\n",
    "print(cars)\n",
    "\n",
    "cars.insert(0,\"Hybrid\")\n",
    "print(cars)\n",
    "\n",
    "cars.extend(cars2)\n",
    "print(cars)"
   ]
  },
  {
   "cell_type": "markdown",
   "metadata": {},
   "source": [
    "There are many ways one can remove values in an array, or event the entire array itself, if necessary. Here's a list of some of these methods:\n",
    "1. remove() - Removes the specified item\n",
    "2. pop() - Removes the specified index\n",
    "3. del - Can remove a specified index or the entire list\n",
    "4. clear() - empties the list"
   ]
  },
  {
   "cell_type": "code",
   "execution_count": null,
   "metadata": {},
   "outputs": [],
   "source": [
    "fruits = [\"Apples\", \"Strawberries\", \"Pineapples\", \"Grapes\", \"Mangoes\", \"Bananas\"]\n",
    "random = [\"Yes\", \"No\", \"Maybe so\", \"I don't know\"]\n",
    "\n",
    "fruits.remove(\"Bananas\")\n",
    "print(fruits)\n",
    "\n",
    "fruits.pop(-1)\n",
    "print(fruits)\n",
    "\n",
    "del random\n",
    "\n",
    "fruits.clear()\n",
    "print(fruits)"
   ]
  },
  {
   "cell_type": "markdown",
   "metadata": {},
   "source": [
    "There is a lot more for lists, but just like for strings, this is sufficient for a basic understanding."
   ]
  },
  {
   "cell_type": "markdown",
   "metadata": {},
   "source": [
    "### Tuple"
   ]
  }
 ],
 "metadata": {
  "kernelspec": {
   "display_name": "Python 3",
   "language": "python",
   "name": "python3"
  },
  "language_info": {
   "codemirror_mode": {
    "name": "ipython",
    "version": 3
   },
   "file_extension": ".py",
   "mimetype": "text/x-python",
   "name": "python",
   "nbconvert_exporter": "python",
   "pygments_lexer": "ipython3",
   "version": "3.10.12"
  }
 },
 "nbformat": 4,
 "nbformat_minor": 2
}
