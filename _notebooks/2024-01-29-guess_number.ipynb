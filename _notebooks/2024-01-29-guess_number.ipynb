{
 "cells": [
  {
   "cell_type": "raw",
   "metadata": {},
   "source": [
    "---\n",
    "layout: post\n",
    "title: Guess the Number\n",
    "toc: false\n",
    "type: projects\n",
    "courses: { python: {week: 1} }\n",
    "---"
   ]
  },
  {
   "cell_type": "code",
   "execution_count": null,
   "metadata": {},
   "outputs": [],
   "source": [
    "import random\n",
    "\n",
    "#Define Variables\n",
    "random_number = random.randrange(1,100)\n",
    "attempts =  0\n",
    "\n",
    "def guess_number():\n",
    "  guess = int(input(\"Guess the Number 1-100: \"))\n",
    "  global attempts\n",
    "\n",
    "  if guess > random_number:\n",
    "    print(\"Too High\")\n",
    "    attempts += 1\n",
    "    guess_number()\n",
    "  elif guess < random_number:\n",
    "    print(\"Too Low\")\n",
    "    attempts += 1\n",
    "    guess_number()\n",
    "  else :\n",
    "    attempts += 1\n",
    "    print(f\"You got it in {attempts} attempts!\")\n",
    "\n",
    "#Run function\n",
    "guess_number()"
   ]
  }
 ],
 "metadata": {
  "kernelspec": {
   "display_name": "Python 3",
   "language": "python",
   "name": "python3"
  },
  "language_info": {
   "codemirror_mode": {
    "name": "ipython",
    "version": 3
   },
   "file_extension": ".py",
   "mimetype": "text/x-python",
   "name": "python",
   "nbconvert_exporter": "python",
   "pygments_lexer": "ipython3",
   "version": "3.10.12"
  }
 },
 "nbformat": 4,
 "nbformat_minor": 2
}
